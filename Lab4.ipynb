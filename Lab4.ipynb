{
 "cells": [
  {
   "cell_type": "markdown",
   "id": "9e14fb8e",
   "metadata": {},
   "source": [
    "## Lab4"
   ]
  },
  {
   "cell_type": "markdown",
   "id": "ce7a6e04",
   "metadata": {},
   "source": [
    "## import libs and connect to database"
   ]
  },
  {
   "cell_type": "code",
   "execution_count": 100,
   "id": "5e16e29e",
   "metadata": {},
   "outputs": [],
   "source": [
    "import pandas\n",
    "import configparser\n",
    "import psycopg2"
   ]
  },
  {
   "cell_type": "code",
   "execution_count": 101,
   "id": "6993f20d",
   "metadata": {},
   "outputs": [],
   "source": [
    "config = configparser.ConfigParser()\n",
    "config.read('config.ini')\n",
    "\n",
    "host=config['myaws']['host']\n",
    "db=config['myaws']['db']\n",
    "user=config['myaws']['user']\n",
    "pwd = config['myaws']['pwd']\n",
    "\n",
    "conn = psycopg2.connect(  host=host,\n",
    "                       user=user,\n",
    "                       password = pwd,\n",
    "                       dbname=db)"
   ]
  },
  {
   "cell_type": "code",
   "execution_count": 102,
   "id": "8fc9c5b4",
   "metadata": {},
   "outputs": [],
   "source": [
    "cur=conn.cursor()"
   ]
  },
  {
   "cell_type": "markdown",
   "id": "12e81650",
   "metadata": {},
   "source": [
    "## question1"
   ]
  },
  {
   "cell_type": "code",
   "execution_count": 103,
   "id": "c8014049",
   "metadata": {},
   "outputs": [],
   "source": [
    "sql_ql = '''\n",
    "            select * from gp3.student\n",
    "         '''"
   ]
  },
  {
   "cell_type": "code",
   "execution_count": 104,
   "id": "ae6264f8",
   "metadata": {},
   "outputs": [
    {
     "data": {
      "text/html": [
       "<div>\n",
       "<style scoped>\n",
       "    .dataframe tbody tr th:only-of-type {\n",
       "        vertical-align: middle;\n",
       "    }\n",
       "\n",
       "    .dataframe tbody tr th {\n",
       "        vertical-align: top;\n",
       "    }\n",
       "\n",
       "    .dataframe thead th {\n",
       "        text-align: right;\n",
       "    }\n",
       "</style>\n",
       "<table border=\"1\" class=\"dataframe\">\n",
       "  <thead>\n",
       "    <tr style=\"text-align: right;\">\n",
       "      <th></th>\n",
       "      <th>s_email</th>\n",
       "      <th>s_name</th>\n",
       "      <th>major</th>\n",
       "    </tr>\n",
       "  </thead>\n",
       "  <tbody>\n",
       "    <tr>\n",
       "      <th>0</th>\n",
       "      <td>johnsmith@dukes.edu</td>\n",
       "      <td>John Smith</td>\n",
       "      <td>IA</td>\n",
       "    </tr>\n",
       "    <tr>\n",
       "      <th>1</th>\n",
       "      <td>chrisjohnson@dukes.jmu.edu</td>\n",
       "      <td>Chris Johnson</td>\n",
       "      <td>IA</td>\n",
       "    </tr>\n",
       "    <tr>\n",
       "      <th>2</th>\n",
       "      <td>rcasperlj@dukes.jmu.edu</td>\n",
       "      <td>Robert Casper</td>\n",
       "      <td>IA</td>\n",
       "    </tr>\n",
       "    <tr>\n",
       "      <th>3</th>\n",
       "      <td>estepme@dukes.jmu.edu</td>\n",
       "      <td>Morgan Estep</td>\n",
       "      <td>IA</td>\n",
       "    </tr>\n",
       "  </tbody>\n",
       "</table>\n",
       "</div>"
      ],
      "text/plain": [
       "                      s_email         s_name major\n",
       "0         johnsmith@dukes.edu     John Smith    IA\n",
       "1  chrisjohnson@dukes.jmu.edu  Chris Johnson    IA\n",
       "2     rcasperlj@dukes.jmu.edu  Robert Casper    IA\n",
       "3       estepme@dukes.jmu.edu   Morgan Estep    IA"
      ]
     },
     "execution_count": 104,
     "metadata": {},
     "output_type": "execute_result"
    }
   ],
   "source": [
    "df = pandas.read_sql_query(sql_ql,conn)\n",
    "df[:]"
   ]
  },
  {
   "cell_type": "markdown",
   "id": "3329597e",
   "metadata": {},
   "source": [
    "## question2"
   ]
  },
  {
   "cell_type": "code",
   "execution_count": 105,
   "id": "00364702",
   "metadata": {},
   "outputs": [
    {
     "name": "stdout",
     "output_type": "stream",
     "text": [
      "\n",
      "\n",
      "select gp3.professors.p_name,\n",
      "        gp3.course.c_name\n",
      "from gp3.professors\n",
      "inner join gp3.course\n",
      "on gp3.professors.p_email = gp3.course.p_email\n",
      "\n",
      "\n"
     ]
    }
   ],
   "source": [
    "q2_sql = \"\"\"\n",
    "\n",
    "select gp3.professors.p_name,\n",
    "        gp3.course.c_name\n",
    "from gp3.professors\n",
    "inner join gp3.course\n",
    "on gp3.professors.p_email = gp3.course.p_email\n",
    "\n",
    "\"\"\"\n",
    "\n",
    "print(q2_sql)"
   ]
  },
  {
   "cell_type": "code",
   "execution_count": 106,
   "id": "3ed03758",
   "metadata": {},
   "outputs": [
    {
     "data": {
      "text/html": [
       "<div>\n",
       "<style scoped>\n",
       "    .dataframe tbody tr th:only-of-type {\n",
       "        vertical-align: middle;\n",
       "    }\n",
       "\n",
       "    .dataframe tbody tr th {\n",
       "        vertical-align: top;\n",
       "    }\n",
       "\n",
       "    .dataframe thead th {\n",
       "        text-align: right;\n",
       "    }\n",
       "</style>\n",
       "<table border=\"1\" class=\"dataframe\">\n",
       "  <thead>\n",
       "    <tr style=\"text-align: right;\">\n",
       "      <th></th>\n",
       "      <th>p_name</th>\n",
       "      <th>c_name</th>\n",
       "    </tr>\n",
       "  </thead>\n",
       "  <tbody>\n",
       "    <tr>\n",
       "      <th>0</th>\n",
       "      <td>Xuebin Wei</td>\n",
       "      <td>Data Mining</td>\n",
       "    </tr>\n",
       "    <tr>\n",
       "      <th>1</th>\n",
       "      <td>Noel Hendrickson</td>\n",
       "      <td>Counterfactual Reasoning</td>\n",
       "    </tr>\n",
       "    <tr>\n",
       "      <th>2</th>\n",
       "      <td>Stephen Marrin</td>\n",
       "      <td>Issues in Intellignece</td>\n",
       "    </tr>\n",
       "    <tr>\n",
       "      <th>3</th>\n",
       "      <td>Orlandrew Danzell</td>\n",
       "      <td>Anti-Money Laundering</td>\n",
       "    </tr>\n",
       "    <tr>\n",
       "      <th>4</th>\n",
       "      <td>Kathleen Moore</td>\n",
       "      <td>Cyber Intelligence</td>\n",
       "    </tr>\n",
       "  </tbody>\n",
       "</table>\n",
       "</div>"
      ],
      "text/plain": [
       "              p_name                    c_name\n",
       "0         Xuebin Wei               Data Mining\n",
       "1   Noel Hendrickson  Counterfactual Reasoning\n",
       "2     Stephen Marrin    Issues in Intellignece\n",
       "3  Orlandrew Danzell     Anti-Money Laundering\n",
       "4     Kathleen Moore        Cyber Intelligence"
      ]
     },
     "execution_count": 106,
     "metadata": {},
     "output_type": "execute_result"
    }
   ],
   "source": [
    "df = pandas.read_sql_query(q2_sql,conn)\n",
    "df[:]"
   ]
  },
  {
   "cell_type": "markdown",
   "id": "b58bc3f8",
   "metadata": {},
   "source": [
    "## question3"
   ]
  },
  {
   "cell_type": "code",
   "execution_count": 107,
   "id": "d4026f63",
   "metadata": {},
   "outputs": [],
   "source": [
    "q3_sql = \"\"\"\n",
    "            select count(c_number) as enrolled,\n",
    "            c_number\n",
    "            from gp3.enroll_list\n",
    "            group by c_number\n",
    "         \"\"\""
   ]
  },
  {
   "cell_type": "code",
   "execution_count": 108,
   "id": "2a3a0944",
   "metadata": {},
   "outputs": [
    {
     "data": {
      "text/plain": [
       "<AxesSubplot:xlabel='c_number'>"
      ]
     },
     "execution_count": 108,
     "metadata": {},
     "output_type": "execute_result"
    },
    {
     "data": {
      "image/png": "[encoded data removed]",
      "text/plain": [
       "<Figure size 432x288 with 1 Axes>"
      ]
     },
     "metadata": {
      "needs_background": "light"
     },
     "output_type": "display_data"
    }
   ],
   "source": [
    "df = pandas.read_sql_query(q3_sql,conn)\n",
    "\n",
    "df.plot.bar(x='c_number',y='enrolled')"
   ]
  },
  {
   "cell_type": "markdown",
   "id": "ef4960d5",
   "metadata": {},
   "source": [
    "## question4"
   ]
  },
  {
   "cell_type": "code",
   "execution_count": 109,
   "id": "befebc5d",
   "metadata": {},
   "outputs": [
    {
     "name": "stdout",
     "output_type": "stream",
     "text": [
      "\n",
      "\n",
      "select gp3.professors.p_name,\n",
      "        gp3.course.c_name\n",
      "from gp3.professors\n",
      "inner join gp3.course\n",
      "on gp3.professors.p_email = gp3.course.p_email\n",
      "\n",
      "\n"
     ]
    }
   ],
   "source": [
    "q4_sql = \"\"\"\n",
    "\n",
    "select gp3.professors.p_name,\n",
    "            count (gp3.course.c_name) as num_course\n",
    "from gp3.professors\n",
    "inner join gp3.course\n",
    "on gp3.professors.p_email = gp3.course.p_email\n",
    "group by gp3.professors.p_name\n",
    "order by num_course desc\n",
    "\n",
    "\"\"\"\n",
    "\n",
    "print(q2_sql)"
   ]
  },
  {
   "cell_type": "code",
   "execution_count": 110,
   "id": "721add90",
   "metadata": {},
   "outputs": [
    {
     "data": {
      "text/html": [
       "<div>\n",
       "<style scoped>\n",
       "    .dataframe tbody tr th:only-of-type {\n",
       "        vertical-align: middle;\n",
       "    }\n",
       "\n",
       "    .dataframe tbody tr th {\n",
       "        vertical-align: top;\n",
       "    }\n",
       "\n",
       "    .dataframe thead th {\n",
       "        text-align: right;\n",
       "    }\n",
       "</style>\n",
       "<table border=\"1\" class=\"dataframe\">\n",
       "  <thead>\n",
       "    <tr style=\"text-align: right;\">\n",
       "      <th></th>\n",
       "      <th>p_name</th>\n",
       "      <th>num_course</th>\n",
       "    </tr>\n",
       "  </thead>\n",
       "  <tbody>\n",
       "    <tr>\n",
       "      <th>0</th>\n",
       "      <td>Noel Hendrickson</td>\n",
       "      <td>1</td>\n",
       "    </tr>\n",
       "    <tr>\n",
       "      <th>1</th>\n",
       "      <td>Xuebin Wei</td>\n",
       "      <td>1</td>\n",
       "    </tr>\n",
       "    <tr>\n",
       "      <th>2</th>\n",
       "      <td>Kathleen Moore</td>\n",
       "      <td>1</td>\n",
       "    </tr>\n",
       "    <tr>\n",
       "      <th>3</th>\n",
       "      <td>Stephen Marrin</td>\n",
       "      <td>1</td>\n",
       "    </tr>\n",
       "    <tr>\n",
       "      <th>4</th>\n",
       "      <td>Orlandrew Danzell</td>\n",
       "      <td>1</td>\n",
       "    </tr>\n",
       "  </tbody>\n",
       "</table>\n",
       "</div>"
      ],
      "text/plain": [
       "              p_name  num_course\n",
       "0   Noel Hendrickson           1\n",
       "1         Xuebin Wei           1\n",
       "2     Kathleen Moore           1\n",
       "3     Stephen Marrin           1\n",
       "4  Orlandrew Danzell           1"
      ]
     },
     "execution_count": 110,
     "metadata": {},
     "output_type": "execute_result"
    }
   ],
   "source": [
    "df = pandas.read_sql_query(q4_sql,conn)\n",
    "\n",
    "df[:]"
   ]
  },
  {
   "cell_type": "code",
   "execution_count": 111,
   "id": "19aa7579",
   "metadata": {},
   "outputs": [
    {
     "data": {
      "text/plain": [
       "<AxesSubplot:xlabel='p_name'>"
      ]
     },
     "execution_count": 111,
     "metadata": {},
     "output_type": "execute_result"
    },
    {
     "data": {
      "image/png": "[encoded data removed]",
      "text/plain": [
       "<Figure size 432x288 with 1 Axes>"
      ]
     },
     "metadata": {
      "needs_background": "light"
     },
     "output_type": "display_data"
    }
   ],
   "source": [
    "df = pandas.read_sql_query(q4_sql,conn)\n",
    "\n",
    "df.plot.bar(x='p_name',y='num_course')"
   ]
  },
  {
   "cell_type": "markdown",
   "id": "ee3fdd9f",
   "metadata": {},
   "source": [
    "## question5"
   ]
  },
  {
   "cell_type": "code",
   "execution_count": 112,
   "id": "616bf0e3",
   "metadata": {},
   "outputs": [
    {
     "name": "stdout",
     "output_type": "stream",
     "text": [
      "\n",
      "\n",
      "insert into gp3.professors (p_email,p_name,office)\n",
      "values ('moore8ka@jmu.edu','Kathleen Moore','CS116')\n",
      "\n",
      "\n"
     ]
    }
   ],
   "source": [
    "q5_sql_professors = \"\"\"\n",
    "\n",
    "insert into gp3.professors (p_email,p_name,office)\n",
    "values ('moore8ka@jmu.edu','Kathleen Moore','CS116')\n",
    "\n",
    "\"\"\"\n",
    "\n",
    "print(q5_sql_professors)"
   ]
  },
  {
   "cell_type": "code",
   "execution_count": 113,
   "id": "5853accf",
   "metadata": {},
   "outputs": [
    {
     "data": {
      "text/html": [
       "<div>\n",
       "<style scoped>\n",
       "    .dataframe tbody tr th:only-of-type {\n",
       "        vertical-align: middle;\n",
       "    }\n",
       "\n",
       "    .dataframe tbody tr th {\n",
       "        vertical-align: top;\n",
       "    }\n",
       "\n",
       "    .dataframe thead th {\n",
       "        text-align: right;\n",
       "    }\n",
       "</style>\n",
       "<table border=\"1\" class=\"dataframe\">\n",
       "  <thead>\n",
       "    <tr style=\"text-align: right;\">\n",
       "      <th></th>\n",
       "      <th>p_email</th>\n",
       "      <th>p_name</th>\n",
       "      <th>office</th>\n",
       "    </tr>\n",
       "  </thead>\n",
       "  <tbody>\n",
       "    <tr>\n",
       "      <th>0</th>\n",
       "      <td>weixx@jmu.edu</td>\n",
       "      <td>Xuebin Wei</td>\n",
       "      <td>EnGeo112</td>\n",
       "    </tr>\n",
       "    <tr>\n",
       "      <th>1</th>\n",
       "      <td>hendrinx@jmu.edu</td>\n",
       "      <td>Noel Hendrickson</td>\n",
       "      <td>Virtual</td>\n",
       "    </tr>\n",
       "    <tr>\n",
       "      <th>2</th>\n",
       "      <td>danzelox@jmu.edu</td>\n",
       "      <td>Orlandrew Danzell</td>\n",
       "      <td>ISAT/CS107</td>\n",
       "    </tr>\n",
       "    <tr>\n",
       "      <th>3</th>\n",
       "      <td>marrinsp@jmu.edu</td>\n",
       "      <td>Stephen Marrin</td>\n",
       "      <td>EnGeo2104</td>\n",
       "    </tr>\n",
       "    <tr>\n",
       "      <th>4</th>\n",
       "      <td>moore8ka@jmu.edu</td>\n",
       "      <td>Kathleen Moore</td>\n",
       "      <td>CS116</td>\n",
       "    </tr>\n",
       "  </tbody>\n",
       "</table>\n",
       "</div>"
      ],
      "text/plain": [
       "            p_email             p_name      office\n",
       "0     weixx@jmu.edu         Xuebin Wei    EnGeo112\n",
       "1  hendrinx@jmu.edu   Noel Hendrickson     Virtual\n",
       "2  danzelox@jmu.edu  Orlandrew Danzell  ISAT/CS107\n",
       "3  marrinsp@jmu.edu     Stephen Marrin   EnGeo2104\n",
       "4  moore8ka@jmu.edu     Kathleen Moore       CS116"
      ]
     },
     "execution_count": 113,
     "metadata": {},
     "output_type": "execute_result"
    }
   ],
   "source": [
    "df = pandas.read_sql_query('select * from gp3.professors',conn)\n",
    "\n",
    "df[:]"
   ]
  },
  {
   "cell_type": "code",
   "execution_count": 120,
   "id": "4d7d6c65",
   "metadata": {},
   "outputs": [
    {
     "name": "stdout",
     "output_type": "stream",
     "text": [
      "\n",
      "\n",
      "    insert into gp3.course (c_number,c_name,room,p_email)\n",
      "    values ('IA240','Tech. Apps.','CS116','moore8ka@jmu.edu')\n",
      "    \n"
     ]
    }
   ],
   "source": [
    "q5_sql_course = \"\"\"\n",
    "\n",
    "    insert into gp3.course (c_number,c_name,room,p_email)\n",
    "    values ('{}','{}','{}','{}')\n",
    "    \"\"\".format('IA240','Tech. Apps.','CS116','moore8ka@jmu.edu')\n",
    "\n",
    "print(q5_sql_course)"
   ]
  },
  {
   "cell_type": "code",
   "execution_count": 121,
   "id": "4a6f658b",
   "metadata": {},
   "outputs": [],
   "source": [
    "cur.execute(q5_sql_course)"
   ]
  },
  {
   "cell_type": "code",
   "execution_count": 122,
   "id": "9050231c",
   "metadata": {},
   "outputs": [],
   "source": [
    "conn.commit()"
   ]
  },
  {
   "cell_type": "code",
   "execution_count": 123,
   "id": "c8066fd6",
   "metadata": {},
   "outputs": [
    {
     "data": {
      "text/html": [
       "<div>\n",
       "<style scoped>\n",
       "    .dataframe tbody tr th:only-of-type {\n",
       "        vertical-align: middle;\n",
       "    }\n",
       "\n",
       "    .dataframe tbody tr th {\n",
       "        vertical-align: top;\n",
       "    }\n",
       "\n",
       "    .dataframe thead th {\n",
       "        text-align: right;\n",
       "    }\n",
       "</style>\n",
       "<table border=\"1\" class=\"dataframe\">\n",
       "  <thead>\n",
       "    <tr style=\"text-align: right;\">\n",
       "      <th></th>\n",
       "      <th>c_number</th>\n",
       "      <th>c_name</th>\n",
       "      <th>room</th>\n",
       "      <th>p_email</th>\n",
       "    </tr>\n",
       "  </thead>\n",
       "  <tbody>\n",
       "    <tr>\n",
       "      <th>0</th>\n",
       "      <td>IA340</td>\n",
       "      <td>Data Mining</td>\n",
       "      <td>EnGeo112</td>\n",
       "      <td>weixx@jmu.edu</td>\n",
       "    </tr>\n",
       "    <tr>\n",
       "      <th>1</th>\n",
       "      <td>IA313</td>\n",
       "      <td>Counterfactual Reasoning</td>\n",
       "      <td>EnGeo2104</td>\n",
       "      <td>hendrinx@jmu.edu</td>\n",
       "    </tr>\n",
       "    <tr>\n",
       "      <th>2</th>\n",
       "      <td>IA300</td>\n",
       "      <td>Issues in Intellignece</td>\n",
       "      <td>ISAT/CS150</td>\n",
       "      <td>marrinsp@jmu.edu</td>\n",
       "    </tr>\n",
       "    <tr>\n",
       "      <th>3</th>\n",
       "      <td>IA480</td>\n",
       "      <td>Anti-Money Laundering</td>\n",
       "      <td>ISAT/CS148</td>\n",
       "      <td>danzelox@jmu.edu</td>\n",
       "    </tr>\n",
       "    <tr>\n",
       "      <th>4</th>\n",
       "      <td>IA365</td>\n",
       "      <td>Cyber Intelligence</td>\n",
       "      <td>CS116</td>\n",
       "      <td>moore8ka@jmu.edu</td>\n",
       "    </tr>\n",
       "    <tr>\n",
       "      <th>5</th>\n",
       "      <td>IA240</td>\n",
       "      <td>Tech. Apps.</td>\n",
       "      <td>CS116</td>\n",
       "      <td>moore8ka@jmu.edu</td>\n",
       "    </tr>\n",
       "  </tbody>\n",
       "</table>\n",
       "</div>"
      ],
      "text/plain": [
       "  c_number                    c_name        room           p_email\n",
       "0    IA340               Data Mining    EnGeo112     weixx@jmu.edu\n",
       "1    IA313  Counterfactual Reasoning   EnGeo2104  hendrinx@jmu.edu\n",
       "2    IA300    Issues in Intellignece  ISAT/CS150  marrinsp@jmu.edu\n",
       "3    IA480     Anti-Money Laundering  ISAT/CS148  danzelox@jmu.edu\n",
       "4    IA365        Cyber Intelligence       CS116  moore8ka@jmu.edu\n",
       "5    IA240               Tech. Apps.       CS116  moore8ka@jmu.edu"
      ]
     },
     "execution_count": 123,
     "metadata": {},
     "output_type": "execute_result"
    }
   ],
   "source": [
    "df = pandas.read_sql_query('select * from gp3.course',conn)\n",
    "\n",
    "df[:]"
   ]
  },
  {
   "cell_type": "markdown",
   "id": "849ce394",
   "metadata": {},
   "source": [
    "## question6"
   ]
  },
  {
   "cell_type": "code",
   "execution_count": 132,
   "id": "6a685473",
   "metadata": {},
   "outputs": [],
   "source": [
    "q6_sql_course = \"\"\"\n",
    "         update gp3.course\n",
    "         set p_email = '{}'\n",
    "         where p_email = '{}'\n",
    "         \"\"\".format('moore8ka@jmu.edu','weixx@jmu.edu')"
   ]
  },
  {
   "cell_type": "code",
   "execution_count": 133,
   "id": "1741819f",
   "metadata": {},
   "outputs": [],
   "source": [
    "cur.execute(q6_sql_course)"
   ]
  },
  {
   "cell_type": "code",
   "execution_count": 134,
   "id": "b9f63f3b",
   "metadata": {},
   "outputs": [],
   "source": [
    "conn.commit()"
   ]
  },
  {
   "cell_type": "code",
   "execution_count": 135,
   "id": "b8d0d0ed",
   "metadata": {},
   "outputs": [
    {
     "data": {
      "text/html": [
       "<div>\n",
       "<style scoped>\n",
       "    .dataframe tbody tr th:only-of-type {\n",
       "        vertical-align: middle;\n",
       "    }\n",
       "\n",
       "    .dataframe tbody tr th {\n",
       "        vertical-align: top;\n",
       "    }\n",
       "\n",
       "    .dataframe thead th {\n",
       "        text-align: right;\n",
       "    }\n",
       "</style>\n",
       "<table border=\"1\" class=\"dataframe\">\n",
       "  <thead>\n",
       "    <tr style=\"text-align: right;\">\n",
       "      <th></th>\n",
       "      <th>c_number</th>\n",
       "      <th>c_name</th>\n",
       "      <th>room</th>\n",
       "      <th>p_email</th>\n",
       "    </tr>\n",
       "  </thead>\n",
       "  <tbody>\n",
       "    <tr>\n",
       "      <th>0</th>\n",
       "      <td>IA313</td>\n",
       "      <td>Counterfactual Reasoning</td>\n",
       "      <td>EnGeo2104</td>\n",
       "      <td>hendrinx@jmu.edu</td>\n",
       "    </tr>\n",
       "    <tr>\n",
       "      <th>1</th>\n",
       "      <td>IA300</td>\n",
       "      <td>Issues in Intellignece</td>\n",
       "      <td>ISAT/CS150</td>\n",
       "      <td>marrinsp@jmu.edu</td>\n",
       "    </tr>\n",
       "    <tr>\n",
       "      <th>2</th>\n",
       "      <td>IA480</td>\n",
       "      <td>Anti-Money Laundering</td>\n",
       "      <td>ISAT/CS148</td>\n",
       "      <td>danzelox@jmu.edu</td>\n",
       "    </tr>\n",
       "    <tr>\n",
       "      <th>3</th>\n",
       "      <td>IA365</td>\n",
       "      <td>Cyber Intelligence</td>\n",
       "      <td>CS116</td>\n",
       "      <td>moore8ka@jmu.edu</td>\n",
       "    </tr>\n",
       "    <tr>\n",
       "      <th>4</th>\n",
       "      <td>IA240</td>\n",
       "      <td>Tech. Apps.</td>\n",
       "      <td>CS116</td>\n",
       "      <td>moore8ka@jmu.edu</td>\n",
       "    </tr>\n",
       "    <tr>\n",
       "      <th>5</th>\n",
       "      <td>IA340</td>\n",
       "      <td>Data Mining</td>\n",
       "      <td>EnGeo112</td>\n",
       "      <td>moore8ka@jmu.edu</td>\n",
       "    </tr>\n",
       "  </tbody>\n",
       "</table>\n",
       "</div>"
      ],
      "text/plain": [
       "  c_number                    c_name        room           p_email\n",
       "0    IA313  Counterfactual Reasoning   EnGeo2104  hendrinx@jmu.edu\n",
       "1    IA300    Issues in Intellignece  ISAT/CS150  marrinsp@jmu.edu\n",
       "2    IA480     Anti-Money Laundering  ISAT/CS148  danzelox@jmu.edu\n",
       "3    IA365        Cyber Intelligence       CS116  moore8ka@jmu.edu\n",
       "4    IA240               Tech. Apps.       CS116  moore8ka@jmu.edu\n",
       "5    IA340               Data Mining    EnGeo112  moore8ka@jmu.edu"
      ]
     },
     "execution_count": 135,
     "metadata": {},
     "output_type": "execute_result"
    }
   ],
   "source": [
    "df = pandas.read_sql_query('select * from gp3.course',conn)\n",
    "\n",
    "df[:]"
   ]
  },
  {
   "cell_type": "code",
   "execution_count": 136,
   "id": "da2e26c4",
   "metadata": {},
   "outputs": [
    {
     "name": "stdout",
     "output_type": "stream",
     "text": [
      "\n",
      "                    delete from gp3.professors\n",
      "                    where p_email = 'weixx@jmu.edu'\n",
      "                    \n"
     ]
    }
   ],
   "source": [
    "q6_sql_professors = \"\"\"\n",
    "                    delete from gp3.professors\n",
    "                    where p_email = 'weixx@jmu.edu'\n",
    "                    \"\"\"\n",
    "print(q6_sql_professors)"
   ]
  },
  {
   "cell_type": "code",
   "execution_count": 138,
   "id": "18edf9f5",
   "metadata": {},
   "outputs": [],
   "source": [
    "cur.execute(q6_sql_professors)"
   ]
  },
  {
   "cell_type": "code",
   "execution_count": 139,
   "id": "198108bc",
   "metadata": {},
   "outputs": [],
   "source": [
    "conn.commit()"
   ]
  },
  {
   "cell_type": "code",
   "execution_count": 140,
   "id": "ff7987d4",
   "metadata": {},
   "outputs": [
    {
     "data": {
      "text/html": [
       "<div>\n",
       "<style scoped>\n",
       "    .dataframe tbody tr th:only-of-type {\n",
       "        vertical-align: middle;\n",
       "    }\n",
       "\n",
       "    .dataframe tbody tr th {\n",
       "        vertical-align: top;\n",
       "    }\n",
       "\n",
       "    .dataframe thead th {\n",
       "        text-align: right;\n",
       "    }\n",
       "</style>\n",
       "<table border=\"1\" class=\"dataframe\">\n",
       "  <thead>\n",
       "    <tr style=\"text-align: right;\">\n",
       "      <th></th>\n",
       "      <th>p_email</th>\n",
       "      <th>p_name</th>\n",
       "      <th>office</th>\n",
       "    </tr>\n",
       "  </thead>\n",
       "  <tbody>\n",
       "    <tr>\n",
       "      <th>0</th>\n",
       "      <td>hendrinx@jmu.edu</td>\n",
       "      <td>Noel Hendrickson</td>\n",
       "      <td>Virtual</td>\n",
       "    </tr>\n",
       "    <tr>\n",
       "      <th>1</th>\n",
       "      <td>danzelox@jmu.edu</td>\n",
       "      <td>Orlandrew Danzell</td>\n",
       "      <td>ISAT/CS107</td>\n",
       "    </tr>\n",
       "    <tr>\n",
       "      <th>2</th>\n",
       "      <td>marrinsp@jmu.edu</td>\n",
       "      <td>Stephen Marrin</td>\n",
       "      <td>EnGeo2104</td>\n",
       "    </tr>\n",
       "    <tr>\n",
       "      <th>3</th>\n",
       "      <td>moore8ka@jmu.edu</td>\n",
       "      <td>Kathleen Moore</td>\n",
       "      <td>CS116</td>\n",
       "    </tr>\n",
       "  </tbody>\n",
       "</table>\n",
       "</div>"
      ],
      "text/plain": [
       "            p_email             p_name      office\n",
       "0  hendrinx@jmu.edu   Noel Hendrickson     Virtual\n",
       "1  danzelox@jmu.edu  Orlandrew Danzell  ISAT/CS107\n",
       "2  marrinsp@jmu.edu     Stephen Marrin   EnGeo2104\n",
       "3  moore8ka@jmu.edu     Kathleen Moore       CS116"
      ]
     },
     "execution_count": 140,
     "metadata": {},
     "output_type": "execute_result"
    }
   ],
   "source": [
    "df = pandas.read_sql_query('select * from gp3.professors',conn)\n",
    "\n",
    "df[:]"
   ]
  },
  {
   "cell_type": "code",
   "execution_count": null,
   "id": "d0df93ce",
   "metadata": {},
   "outputs": [],
   "source": []
  }
 ],
 "metadata": {
  "kernelspec": {
   "display_name": "conda_python3",
   "language": "python",
   "name": "conda_python3"
  },
  "language_info": {
   "codemirror_mode": {
    "name": "ipython",
    "version": 3
   },
   "file_extension": ".py",
   "mimetype": "text/x-python",
   "name": "python",
   "nbconvert_exporter": "python",
   "pygments_lexer": "ipython3",
   "version": "3.6.13"
  }
 },
 "nbformat": 4,
 "nbformat_minor": 5
}
